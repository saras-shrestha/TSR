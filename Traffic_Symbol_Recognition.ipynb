{
 "cells": [
  {
   "cell_type": "code",
   "execution_count": 1,
   "id": "e069e68d-b285-40eb-b371-9e9ec7bf326d",
   "metadata": {},
   "outputs": [
    {
     "data": {
      "text/plain": [
       "'G:\\\\html,css tutorial\\\\Traffic_Symbol_Recognition'"
      ]
     },
     "execution_count": 1,
     "metadata": {},
     "output_type": "execute_result"
    }
   ],
   "source": [
    "##  required librariesImport\n",
    "import numpy as np \n",
    "import pandas as pd \n",
    "import matplotlib.pyplot as plt\n",
    "import cv2\n",
    "import tensorflow as tf\n",
    "from PIL import Image\n",
    "import os\n",
    "os.chdir('G:\\html,css tutorial\\Traffic_Symbol_Recognition')\n",
    "from sklearn.model_selection import train_test_split\n",
    "from keras.utils import to_categorical\n",
    "from keras.models import Sequential, load_model\n",
    "from keras.layers import Conv2D, MaxPool2D, Dense, Flatten, Dropout\n",
    "\n",
    "## Store data, labels in the list\n",
    "data = []\n",
    "labels = []\n",
    "# We have 43 Classes\n",
    "classes = 43\n",
    "cur_path = os.getcwd()\n",
    "cur_path"
   ]
  },
  {
   "cell_type": "code",
   "execution_count": 2,
   "id": "956599e7",
   "metadata": {},
   "outputs": [],
   "source": [
    "## Preprocess the images\n",
    "for i in range(classes):\n",
    "    path = os.path.join(cur_path,'train',str(i))\n",
    "    images = os.listdir(path)\n",
    "    for a in images:\n",
    "        try:\n",
    "            image = Image.open(path + '\\\\'+ a)\n",
    "            image = image.resize((30,30))\n",
    "            image = np.array(image)\n",
    "            data.append(image)\n",
    "            labels.append(i)\n",
    "        except Exception as e:\n",
    "            print(e)\n",
    "\n",
    "## Converting lists into numpy arrays\n",
    "data = np.array(data)\n",
    "labels = np.array(labels)"
   ]
  },
  {
   "cell_type": "code",
   "execution_count": 3,
   "id": "73eeea90",
   "metadata": {},
   "outputs": [],
   "source": [
    "## Save Labels & Data for future use\n",
    "np.save('./training/data',data)\n",
    "np.save('./training/target',labels)"
   ]
  },
  {
   "cell_type": "code",
   "execution_count": 4,
   "id": "44741186",
   "metadata": {},
   "outputs": [
    {
     "name": "stdout",
     "output_type": "stream",
     "text": [
      "(39209, 30, 30, 3) (39209,)\n"
     ]
    }
   ],
   "source": [
    "## Load data & Labels\n",
    "data=np.load('./training/data.npy')\n",
    "labels=np.load('./training/target.npy')\n",
    "print(data.shape, labels.shape)"
   ]
  },
  {
   "cell_type": "code",
   "execution_count": 5,
   "id": "4a96a213",
   "metadata": {},
   "outputs": [
    {
     "name": "stdout",
     "output_type": "stream",
     "text": [
      "(31367, 30, 30, 3) (7842, 30, 30, 3) (31367,) (7842,)\n"
     ]
    }
   ],
   "source": [
    "X_train, X_test, y_train, y_test = train_test_split(data, labels, test_size=0.2, random_state=0)\n",
    "print(X_train.shape, X_test.shape, y_train.shape, y_test.shape)"
   ]
  },
  {
   "cell_type": "code",
   "execution_count": 6,
   "id": "fef9667b",
   "metadata": {},
   "outputs": [],
   "source": [
    "## Convert labels to onehot encoding\n",
    "y_train = to_categorical(y_train, 43)\n",
    "y_test = to_categorical(y_test, 43)"
   ]
  },
  {
   "cell_type": "code",
   "execution_count": 7,
   "id": "c015df46",
   "metadata": {},
   "outputs": [
    {
     "name": "stdout",
     "output_type": "stream",
     "text": [
      "Epoch 1/20\n",
      "981/981 [==============================] - 275s 277ms/step - loss: 1.7359 - accuracy: 0.5648 - val_loss: 0.3418 - val_accuracy: 0.9137\n",
      "Epoch 2/20\n",
      "981/981 [==============================] - 202s 205ms/step - loss: 0.4775 - accuracy: 0.8630 - val_loss: 0.1519 - val_accuracy: 0.9589\n",
      "Epoch 3/20\n",
      "981/981 [==============================] - 300s 305ms/step - loss: 0.3229 - accuracy: 0.9092 - val_loss: 0.0992 - val_accuracy: 0.9737\n",
      "Epoch 4/20\n",
      "981/981 [==============================] - 141s 144ms/step - loss: 0.2695 - accuracy: 0.9260 - val_loss: 0.0808 - val_accuracy: 0.9772\n",
      "Epoch 5/20\n",
      "981/981 [==============================] - 303s 308ms/step - loss: 0.2446 - accuracy: 0.9332 - val_loss: 0.0797 - val_accuracy: 0.9793\n",
      "Epoch 6/20\n",
      "981/981 [==============================] - 148s 151ms/step - loss: 0.2368 - accuracy: 0.9373 - val_loss: 0.0511 - val_accuracy: 0.9834\n",
      "Epoch 7/20\n",
      "981/981 [==============================] - 281s 287ms/step - loss: 0.2265 - accuracy: 0.9411 - val_loss: 0.0644 - val_accuracy: 0.9836\n",
      "Epoch 8/20\n",
      "981/981 [==============================] - 231s 235ms/step - loss: 0.2378 - accuracy: 0.9368 - val_loss: 0.0554 - val_accuracy: 0.9847\n",
      "Epoch 9/20\n",
      "981/981 [==============================] - 182s 186ms/step - loss: 0.1874 - accuracy: 0.9517 - val_loss: 0.0701 - val_accuracy: 0.9814\n",
      "Epoch 10/20\n",
      "981/981 [==============================] - 126s 128ms/step - loss: 0.2343 - accuracy: 0.9403 - val_loss: 0.0453 - val_accuracy: 0.9893\n",
      "Epoch 11/20\n",
      "981/981 [==============================] - 276s 282ms/step - loss: 0.1997 - accuracy: 0.9507 - val_loss: 0.0601 - val_accuracy: 0.9864\n",
      "Epoch 12/20\n",
      "981/981 [==============================] - 112s 114ms/step - loss: 0.1931 - accuracy: 0.9515 - val_loss: 0.0834 - val_accuracy: 0.9801\n",
      "Epoch 13/20\n",
      "981/981 [==============================] - 276s 281ms/step - loss: 0.1919 - accuracy: 0.9506 - val_loss: 0.0440 - val_accuracy: 0.9892\n",
      "Epoch 14/20\n",
      "981/981 [==============================] - 110s 113ms/step - loss: 0.1933 - accuracy: 0.9517 - val_loss: 0.0567 - val_accuracy: 0.9837\n",
      "Epoch 15/20\n",
      "981/981 [==============================] - 287s 292ms/step - loss: 0.1924 - accuracy: 0.9522 - val_loss: 0.0384 - val_accuracy: 0.9913\n",
      "Epoch 16/20\n",
      "981/981 [==============================] - 114s 116ms/step - loss: 0.2187 - accuracy: 0.9477 - val_loss: 0.0603 - val_accuracy: 0.9878\n",
      "Epoch 17/20\n",
      "981/981 [==============================] - 279s 284ms/step - loss: 0.2251 - accuracy: 0.9484 - val_loss: 0.0538 - val_accuracy: 0.9858\n",
      "Epoch 18/20\n",
      "981/981 [==============================] - 235s 239ms/step - loss: 0.1930 - accuracy: 0.9539 - val_loss: 0.0521 - val_accuracy: 0.9872\n",
      "Epoch 19/20\n",
      "981/981 [==============================] - 181s 184ms/step - loss: 0.2422 - accuracy: 0.9460 - val_loss: 0.0787 - val_accuracy: 0.9807\n",
      "Epoch 20/20\n",
      "981/981 [==============================] - 255s 259ms/step - loss: 0.2039 - accuracy: 0.9551 - val_loss: 0.0693 - val_accuracy: 0.9841\n"
     ]
    }
   ],
   "source": [
    "## Now it's time to build the model\n",
    "model = Sequential()\n",
    "model.add(Conv2D(filters=32, kernel_size=(5,5), activation='relu', input_shape=X_train.shape[1:]))\n",
    "model.add(Conv2D(filters=32, kernel_size=(5,5), activation='relu'))\n",
    "model.add(MaxPool2D(pool_size=(2, 2)))\n",
    "model.add(Dropout(rate=0.25))\n",
    "model.add(Conv2D(filters=64, kernel_size=(3, 3), activation='relu'))\n",
    "model.add(Conv2D(filters=64, kernel_size=(3, 3), activation='relu'))\n",
    "model.add(MaxPool2D(pool_size=(2, 2)))\n",
    "model.add(Dropout(rate=0.25))\n",
    "model.add(Flatten())\n",
    "model.add(Dense(256, activation='relu'))\n",
    "model.add(Dropout(rate=0.5))\n",
    "# We have 43 classes that's why we have defined 43 in the dense\n",
    "model.add(Dense(43, activation='softmax'))\n",
    "\n",
    "#Compilation of the model\n",
    "model.compile(loss='categorical_crossentropy', optimizer='adam', metrics=['accuracy'])\n",
    "\n",
    "epochs = 20\n",
    "history = model.fit(X_train, y_train, batch_size=32, epochs=epochs, validation_data=(X_test, y_test))"
   ]
  },
  {
   "cell_type": "code",
   "execution_count": 8,
   "id": "65ce922d",
   "metadata": {},
   "outputs": [
    {
     "data": {
      "image/png": "[encoded data removed]",
      "text/plain": [
       "<Figure size 640x480 with 1 Axes>"
      ]
     },
     "metadata": {},
     "output_type": "display_data"
    }
   ],
   "source": [
    "# accuracy \n",
    "plt.figure(0)\n",
    "plt.plot(history.history['accuracy'], label='training accuracy')\n",
    "plt.plot(history.history['val_accuracy'], label='val accuracy')\n",
    "plt.title('Accuracy')\n",
    "plt.xlabel('epochs')\n",
    "plt.ylabel('accuracy')\n",
    "plt.legend()\n",
    "plt.show()"
   ]
  },
  {
   "cell_type": "code",
   "execution_count": 9,
   "id": "2135f5f2",
   "metadata": {},
   "outputs": [
    {
     "data": {
      "image/png": "[encoded data removed]",
      "text/plain": [
       "<Figure size 640x480 with 1 Axes>"
      ]
     },
     "metadata": {},
     "output_type": "display_data"
    }
   ],
   "source": [
    "# Loss\n",
    "plt.plot(history.history['loss'], label='training loss')\n",
    "plt.plot(history.history['val_loss'], label='val loss')\n",
    "plt.title('Loss')\n",
    "plt.xlabel('epochs')\n",
    "plt.ylabel('loss')\n",
    "plt.legend()\n",
    "plt.show()"
   ]
  },
  {
   "cell_type": "code",
   "execution_count": 10,
   "id": "e1264b6c",
   "metadata": {
    "scrolled": true
   },
   "outputs": [
    {
     "ename": "AttributeError",
     "evalue": "'Sequential' object has no attribute 'predict_classes'",
     "output_type": "error",
     "traceback": [
      "\u001b[1;31m---------------------------------------------------------------------------\u001b[0m",
      "\u001b[1;31mAttributeError\u001b[0m                            Traceback (most recent call last)",
      "Cell \u001b[1;32mIn[10], line 16\u001b[0m\n\u001b[0;32m     12\u001b[0m     \u001b[38;5;28;01mreturn\u001b[39;00m X_test,label\n\u001b[0;32m     14\u001b[0m X_test, label \u001b[38;5;241m=\u001b[39m testing(\u001b[38;5;124m'\u001b[39m\u001b[38;5;124mTest.csv\u001b[39m\u001b[38;5;124m'\u001b[39m)\n\u001b[1;32m---> 16\u001b[0m Y_pred \u001b[38;5;241m=\u001b[39m \u001b[43mmodel\u001b[49m\u001b[38;5;241;43m.\u001b[39;49m\u001b[43mpredict_classes\u001b[49m(X_test)\n\u001b[0;32m     17\u001b[0m Y_pred\n",
      "\u001b[1;31mAttributeError\u001b[0m: 'Sequential' object has no attribute 'predict_classes'"
     ]
    }
   ],
   "source": [
    "## LEt's do testing on Test data\n",
    "def testing(testcsv):\n",
    "    y_test = pd.read_csv(testcsv)\n",
    "    label = y_test[\"ClassId\"].values\n",
    "    imgs = y_test[\"Path\"].values\n",
    "    data=[]\n",
    "    for img in imgs:\n",
    "        image = Image.open(img)\n",
    "        image = image.resize((30,30))\n",
    "        data.append(np.array(image))\n",
    "    X_test=np.array(data)\n",
    "    return X_test,label\n",
    "\n",
    "X_test, label = testing('Test.csv')\n",
    "\n",
    "#Y_pred = model.predict_classes(X_test)\n",
    "Y_pred = np.argmax(model.predict(X_test),axis=1)\n",
    "Y_pred"
   ]
  },
  {
   "cell_type": "code",
   "execution_count": 11,
   "id": "75364609",
   "metadata": {},
   "outputs": [
    {
     "name": "stdout",
     "output_type": "stream",
     "text": [
      "395/395 [==============================] - 8s 19ms/step\n"
     ]
    },
    {
     "data": {
      "text/plain": [
       "array([16,  1, 38, ..., 32,  7, 10], dtype=int64)"
      ]
     },
     "execution_count": 11,
     "metadata": {},
     "output_type": "execute_result"
    }
   ],
   "source": [
    "\n",
    "Y_pred = np.argmax(model.predict(X_test),axis=1)\n",
    "Y_pred"
   ]
  },
  {
   "cell_type": "code",
   "execution_count": 12,
   "id": "d79c7a9f",
   "metadata": {},
   "outputs": [
    {
     "name": "stdout",
     "output_type": "stream",
     "text": [
      "0.9556611243072051\n"
     ]
    }
   ],
   "source": [
    "## Accuracy with the test data\n",
    "from sklearn.metrics import accuracy_score\n",
    "print(accuracy_score(label, Y_pred))"
   ]
  },
  {
   "cell_type": "code",
   "execution_count": 13,
   "id": "bd3ff5e4",
   "metadata": {},
   "outputs": [
    {
     "name": "stderr",
     "output_type": "stream",
     "text": [
      "C:\\Users\\saras\\AppData\\Roaming\\Python\\Python39\\site-packages\\keras\\src\\engine\\training.py:3079: UserWarning: You are saving your model as an HDF5 file via `model.save()`. This file format is considered legacy. We recommend using instead the native Keras format, e.g. `model.save('my_model.keras')`.\n",
      "  saving_api.save_model(\n"
     ]
    }
   ],
   "source": [
    "## Save the model\n",
    "model.save(\"./training/TSR.h5\")"
   ]
  },
  {
   "cell_type": "code",
   "execution_count": 18,
   "id": "91b729c3",
   "metadata": {},
   "outputs": [],
   "source": [
    "## Load the Model\n",
    "import os\n",
    "os.chdir(r'G:\\html,css tutorial\\Traffic_Symbol_Recognition')\n",
    "from keras.models import load_model\n",
    "model = load_model('./training/TSR.h5')\n",
    "\n",
    "# Classes of trafic signs\n",
    "classes = { 0:'Speed limit (20km/h)',\n",
    "            1:'Speed limit (30km/h)', \n",
    "            2:'Speed limit (50km/h)', \n",
    "            3:'Speed limit (60km/h)', \n",
    "            4:'Speed limit (70km/h)', \n",
    "            5:'Speed limit (80km/h)', \n",
    "            6:'End of speed limit (80km/h)', \n",
    "            7:'Speed limit (100km/h)', \n",
    "            8:'Speed limit (120km/h)', \n",
    "            9:'No passing', \n",
    "            10:'No passing veh over 3.5 tons', \n",
    "            11:'Right-of-way at intersection', \n",
    "            12:'Priority road', \n",
    "            13:'Yield', \n",
    "            14:'Stop', \n",
    "            15:'No vehicles', \n",
    "            16:'Veh > 3.5 tons prohibited', \n",
    "            17:'No entry', \n",
    "            18:'General caution', \n",
    "            19:'Dangerous curve left', \n",
    "            20:'Dangerous curve right', \n",
    "            21:'Double curve', \n",
    "            22:'Bumpy road', \n",
    "            23:'Slippery road', \n",
    "            24:'Road narrows on the right', \n",
    "            25:'Road work', \n",
    "            26:'Traffic signals', \n",
    "            27:'Pedestrians', \n",
    "            28:'Children crossing', \n",
    "            29:'Bicycles crossing', \n",
    "            30:'Beware of ice/snow',\n",
    "            31:'Wild animals crossing', \n",
    "            32:'End speed + passing limits', \n",
    "            33:'Turn right ahead', \n",
    "            34:'Turn left ahead', \n",
    "            35:'Ahead only', \n",
    "            36:'Go straight or right', \n",
    "            37:'Go straight or left', \n",
    "            38:'Keep right', \n",
    "            39:'Keep left', \n",
    "            40:'Roundabout mandatory', \n",
    "            41:'End of no passing', \n",
    "            42:'End no passing veh > 3.5 tons' }\n",
    "\n",
    "from PIL import Image\n",
    "import numpy as np\n",
    "import matplotlib.pyplot as plt\n",
    "def test_on_img(img):\n",
    "    data=[]\n",
    "    image = Image.open(img)\n",
    "    image = image.resize((30,30))\n",
    "    data.append(np.array(image))\n",
    "    X_test=np.array(data)\n",
    "    Y_pred = np.argmax(model.predict(X_test),axis=1)\n",
    "    return image,Y_pred"
   ]
  },
  {
   "cell_type": "code",
   "execution_count": 20,
   "id": "9538ee61",
   "metadata": {},
   "outputs": [
    {
     "name": "stdout",
     "output_type": "stream",
     "text": [
      "1/1 [==============================] - 0s 260ms/step\n",
      "Predicted traffic sign is:  Stop\n"
     ]
    },
    {
     "data": {
      "image/png": "[encoded data removed]",
      "text/plain": [
       "<Figure size 640x480 with 1 Axes>"
      ]
     },
     "metadata": {},
     "output_type": "display_data"
    }
   ],
   "source": [
    "plot,prediction = test_on_img(r'G:\\html,css tutorial\\Traffic_Symbol_Recognition\\Test\\00093.png')\n",
    "s = [str(i) for i in prediction] \n",
    "a = int(\"\".join(s)) \n",
    "print(\"Predicted traffic sign is: \", classes[a])\n",
    "plt.imshow(plot)\n",
    "plt.show()"
   ]
  },
  {
   "cell_type": "code",
   "execution_count": null,
   "id": "1ab26f8f",
   "metadata": {},
   "outputs": [],
   "source": []
  },
  {
   "cell_type": "code",
   "execution_count": null,
   "id": "227d6a71",
   "metadata": {},
   "outputs": [],
   "source": []
  }
 ],
 "metadata": {
  "kernelspec": {
   "display_name": "Python 3 (ipykernel)",
   "language": "python",
   "name": "python3"
  },
  "language_info": {
   "codemirror_mode": {
    "name": "ipython",
    "version": 3
   },
   "file_extension": ".py",
   "mimetype": "text/x-python",
   "name": "python",
   "nbconvert_exporter": "python",
   "pygments_lexer": "ipython3",
   "version": "3.9.13"
  }
 },
 "nbformat": 4,
 "nbformat_minor": 5
}
